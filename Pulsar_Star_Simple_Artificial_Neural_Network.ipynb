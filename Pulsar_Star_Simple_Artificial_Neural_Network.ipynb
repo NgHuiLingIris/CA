{
  "nbformat": 4,
  "nbformat_minor": 0,
  "metadata": {
    "colab": {
      "name": "Pulsar Star Simple Artificial Neural Network.ipynb",
      "version": "0.3.2",
      "provenance": [],
      "collapsed_sections": [],
      "include_colab_link": true
    },
    "language_info": {
      "codemirror_mode": {
        "name": "ipython",
        "version": 3
      },
      "file_extension": ".py",
      "mimetype": "text/x-python",
      "name": "python",
      "nbconvert_exporter": "python",
      "pygments_lexer": "ipython3",
      "version": "3.7.3"
    },
    "kernelspec": {
      "display_name": "Python 3",
      "language": "python",
      "name": "python3"
    }
  },
  "cells": [
    {
      "cell_type": "markdown",
      "metadata": {
        "id": "view-in-github",
        "colab_type": "text"
      },
      "source": [
        "<a href=\"https://colab.research.google.com/github/NgHuiLingIris/CA/blob/master/Pulsar_Star_Simple_Artificial_Neural_Network.ipynb\" target=\"_parent\"><img src=\"https://colab.research.google.com/assets/colab-badge.svg\" alt=\"Open In Colab\"/></a>"
      ]
    },
    {
      "cell_type": "markdown",
      "metadata": {
        "id": "Of4yGrojdrxD",
        "colab_type": "text"
      },
      "source": [
        "# Lesson 8 Simple Artificial Neural Network\n",
        "\n",
        "Setup\n",
        "\n",
        "~~~\n",
        "conda install seaborn numpy sklearn keras tensorflow\n",
        "~~~\n",
        "\n",
        "Adapted from https://github.com/fastforwardlabs/keras-hello-world\n"
      ]
    },
    {
      "cell_type": "code",
      "metadata": {
        "id": "SoDmjFIjdrxK",
        "colab_type": "code",
        "colab": {}
      },
      "source": [
        "import seaborn as sns\n",
        "import numpy as np\n",
        "\n",
        "from sklearn.model_selection import train_test_split\n",
        "from sklearn.linear_model import LogisticRegressionCV\n",
        "\n",
        "from keras.models import Sequential\n",
        "from keras.layers.core import Dense, Activation\n",
        "from keras.utils import np_utils\n",
        "\n",
        "import numpy as np\n",
        "import matplotlib.pyplot as plt\n",
        "import pandas as pd\n",
        "from sklearn import datasets"
      ],
      "execution_count": 0,
      "outputs": []
    },
    {
      "cell_type": "markdown",
      "metadata": {
        "id": "S1JAtsJ7drxd",
        "colab_type": "text"
      },
      "source": [
        "## Loading Iris data\n",
        "\n",
        "We load it from seaborn so that we can load this notebook in Google Colaboratory easily"
      ]
    },
    {
      "cell_type": "code",
      "metadata": {
        "id": "wby8anwJdrxj",
        "colab_type": "code",
        "outputId": "d31d0edb-2387-4e76-9ced-dcfddec27938",
        "colab": {
          "base_uri": "https://localhost:8080/",
          "height": 254
        }
      },
      "source": [
        "dataset = pd.read_csv('pulsar_stars.csv')\n",
        "dataset.head()"
      ],
      "execution_count": 0,
      "outputs": [
        {
          "output_type": "execute_result",
          "data": {
            "text/html": [
              "<div>\n",
              "<style scoped>\n",
              "    .dataframe tbody tr th:only-of-type {\n",
              "        vertical-align: middle;\n",
              "    }\n",
              "\n",
              "    .dataframe tbody tr th {\n",
              "        vertical-align: top;\n",
              "    }\n",
              "\n",
              "    .dataframe thead th {\n",
              "        text-align: right;\n",
              "    }\n",
              "</style>\n",
              "<table border=\"1\" class=\"dataframe\">\n",
              "  <thead>\n",
              "    <tr style=\"text-align: right;\">\n",
              "      <th></th>\n",
              "      <th>Mean of the integrated profile</th>\n",
              "      <th>Standard deviation of the integrated profile</th>\n",
              "      <th>Excess kurtosis of the integrated profile</th>\n",
              "      <th>Skewness of the integrated profile</th>\n",
              "      <th>Mean of the DM-SNR curve</th>\n",
              "      <th>Standard deviation of the DM-SNR curve</th>\n",
              "      <th>Excess kurtosis of the DM-SNR curve</th>\n",
              "      <th>Skewness of the DM-SNR curve</th>\n",
              "      <th>target_class</th>\n",
              "    </tr>\n",
              "  </thead>\n",
              "  <tbody>\n",
              "    <tr>\n",
              "      <th>0</th>\n",
              "      <td>140.562500</td>\n",
              "      <td>55.683782</td>\n",
              "      <td>-0.234571</td>\n",
              "      <td>-0.699648</td>\n",
              "      <td>3.199833</td>\n",
              "      <td>19.110426</td>\n",
              "      <td>7.975532</td>\n",
              "      <td>74.242225</td>\n",
              "      <td>0</td>\n",
              "    </tr>\n",
              "    <tr>\n",
              "      <th>1</th>\n",
              "      <td>102.507812</td>\n",
              "      <td>58.882430</td>\n",
              "      <td>0.465318</td>\n",
              "      <td>-0.515088</td>\n",
              "      <td>1.677258</td>\n",
              "      <td>14.860146</td>\n",
              "      <td>10.576487</td>\n",
              "      <td>127.393580</td>\n",
              "      <td>0</td>\n",
              "    </tr>\n",
              "    <tr>\n",
              "      <th>2</th>\n",
              "      <td>103.015625</td>\n",
              "      <td>39.341649</td>\n",
              "      <td>0.323328</td>\n",
              "      <td>1.051164</td>\n",
              "      <td>3.121237</td>\n",
              "      <td>21.744669</td>\n",
              "      <td>7.735822</td>\n",
              "      <td>63.171909</td>\n",
              "      <td>0</td>\n",
              "    </tr>\n",
              "    <tr>\n",
              "      <th>3</th>\n",
              "      <td>136.750000</td>\n",
              "      <td>57.178449</td>\n",
              "      <td>-0.068415</td>\n",
              "      <td>-0.636238</td>\n",
              "      <td>3.642977</td>\n",
              "      <td>20.959280</td>\n",
              "      <td>6.896499</td>\n",
              "      <td>53.593661</td>\n",
              "      <td>0</td>\n",
              "    </tr>\n",
              "    <tr>\n",
              "      <th>4</th>\n",
              "      <td>88.726562</td>\n",
              "      <td>40.672225</td>\n",
              "      <td>0.600866</td>\n",
              "      <td>1.123492</td>\n",
              "      <td>1.178930</td>\n",
              "      <td>11.468720</td>\n",
              "      <td>14.269573</td>\n",
              "      <td>252.567306</td>\n",
              "      <td>0</td>\n",
              "    </tr>\n",
              "  </tbody>\n",
              "</table>\n",
              "</div>"
            ],
            "text/plain": [
              "    Mean of the integrated profile  ...  target_class\n",
              "0                       140.562500  ...             0\n",
              "1                       102.507812  ...             0\n",
              "2                       103.015625  ...             0\n",
              "3                       136.750000  ...             0\n",
              "4                        88.726562  ...             0\n",
              "\n",
              "[5 rows x 9 columns]"
            ]
          },
          "metadata": {
            "tags": []
          },
          "execution_count": 4
        }
      ]
    },
    {
      "cell_type": "markdown",
      "metadata": {
        "id": "6yau0ajwdryD",
        "colab_type": "text"
      },
      "source": [
        "## Munge and split the data for training and testing\n",
        "\n",
        "First we need to pull the raw data out of the `iris` dataframe. We'll hold the petal and sepal data in an array `X` and the species labels in a corresponding array `y`."
      ]
    },
    {
      "cell_type": "code",
      "metadata": {
        "id": "RbGwiFVLdryJ",
        "colab_type": "code",
        "colab": {}
      },
      "source": [
        "X = dataset.values[:, :8]\n",
        "y = dataset.values[:, 8]"
      ],
      "execution_count": 0,
      "outputs": []
    },
    {
      "cell_type": "code",
      "metadata": {
        "id": "GlXtTyyydrye",
        "colab_type": "code",
        "outputId": "11d2ea6f-c649-429a-a950-7261e2f30309",
        "colab": {
          "base_uri": "https://localhost:8080/",
          "height": 243
        }
      },
      "source": [
        "X"
      ],
      "execution_count": 0,
      "outputs": [
        {
          "output_type": "execute_result",
          "data": {
            "text/plain": [
              "array([[140.5625    ,  55.68378214,  -0.23457141, ...,  19.11042633,\n",
              "          7.97553179,  74.24222492],\n",
              "       [102.5078125 ,  58.88243001,   0.46531815, ...,  14.86014572,\n",
              "         10.57648674, 127.3935796 ],\n",
              "       [103.015625  ,  39.34164944,   0.32332837, ...,  21.74466875,\n",
              "          7.73582202,  63.17190911],\n",
              "       ...,\n",
              "       [119.3359375 ,  59.93593941,   0.1593631 , ...,  58.8720002 ,\n",
              "          2.49951714,   4.59517265],\n",
              "       [114.5078125 ,  53.90239966,   0.20116138, ...,  13.38173065,\n",
              "         10.00796731, 134.2389095 ],\n",
              "       [ 57.0625    ,  85.79734025,   1.40639105, ...,  64.71256228,\n",
              "         -1.59752658,   1.42947536]])"
            ]
          },
          "metadata": {
            "tags": []
          },
          "execution_count": 6
        }
      ]
    },
    {
      "cell_type": "code",
      "metadata": {
        "id": "fd05lUemdry7",
        "colab_type": "code",
        "outputId": "c93cd668-cb3a-4c4f-a4b4-2563792951f5",
        "colab": {
          "base_uri": "https://localhost:8080/",
          "height": 35
        }
      },
      "source": [
        "y"
      ],
      "execution_count": 0,
      "outputs": [
        {
          "output_type": "execute_result",
          "data": {
            "text/plain": [
              "array([0., 0., 0., ..., 0., 0., 0.])"
            ]
          },
          "metadata": {
            "tags": []
          },
          "execution_count": 7
        }
      ]
    },
    {
      "cell_type": "markdown",
      "metadata": {
        "id": "1emeqJHddrzY",
        "colab_type": "text"
      },
      "source": [
        "As is standard in supervised machine learning, we'll train with some of the data, and measure the performance of our model with the remainder. This is simple to do by hand, but is also built into scikit-learn as the `train_test_split()` function."
      ]
    },
    {
      "cell_type": "code",
      "metadata": {
        "id": "HYEu-5OJdrzf",
        "colab_type": "code",
        "colab": {}
      },
      "source": [
        "train_X, test_X, train_y, test_y = train_test_split(X, y, train_size=0.5, test_size=0.5, random_state=0)"
      ],
      "execution_count": 0,
      "outputs": []
    },
    {
      "cell_type": "markdown",
      "metadata": {
        "id": "q-1dyedbdrz0",
        "colab_type": "text"
      },
      "source": [
        "# Train a scikit-learn classifier\n",
        "\n",
        "We'll train a logisitic regression classifier. Doing this, with built-in hyper-paramter cross validation, is one line in scikit-learn. Like all scikit-learn `Estimator` objects, a `LogisticRegressionCV` classifier has a `.fit()` method that takes care of the gory numerical details of learning model parameters that best fit the training data. So that method is all we need to do:"
      ]
    },
    {
      "cell_type": "code",
      "metadata": {
        "id": "t7gleek_drz5",
        "colab_type": "code",
        "outputId": "154656f3-d625-4e49-c3de-e19c582a3fa5",
        "colab": {
          "base_uri": "https://localhost:8080/",
          "height": 817
        }
      },
      "source": [
        "lr = LogisticRegressionCV(cv=3, multi_class='ovr')\n",
        "lr.fit(train_X, train_y)"
      ],
      "execution_count": 0,
      "outputs": [
        {
          "output_type": "stream",
          "text": [
            "/usr/local/lib/python3.6/dist-packages/sklearn/linear_model/logistic.py:947: ConvergenceWarning: lbfgs failed to converge. Increase the number of iterations.\n",
            "  \"of iterations.\", ConvergenceWarning)\n",
            "/usr/local/lib/python3.6/dist-packages/sklearn/linear_model/logistic.py:947: ConvergenceWarning: lbfgs failed to converge. Increase the number of iterations.\n",
            "  \"of iterations.\", ConvergenceWarning)\n",
            "/usr/local/lib/python3.6/dist-packages/sklearn/linear_model/logistic.py:947: ConvergenceWarning: lbfgs failed to converge. Increase the number of iterations.\n",
            "  \"of iterations.\", ConvergenceWarning)\n",
            "/usr/local/lib/python3.6/dist-packages/sklearn/linear_model/logistic.py:947: ConvergenceWarning: lbfgs failed to converge. Increase the number of iterations.\n",
            "  \"of iterations.\", ConvergenceWarning)\n",
            "/usr/local/lib/python3.6/dist-packages/sklearn/linear_model/logistic.py:947: ConvergenceWarning: lbfgs failed to converge. Increase the number of iterations.\n",
            "  \"of iterations.\", ConvergenceWarning)\n",
            "/usr/local/lib/python3.6/dist-packages/sklearn/linear_model/logistic.py:947: ConvergenceWarning: lbfgs failed to converge. Increase the number of iterations.\n",
            "  \"of iterations.\", ConvergenceWarning)\n",
            "/usr/local/lib/python3.6/dist-packages/sklearn/linear_model/logistic.py:947: ConvergenceWarning: lbfgs failed to converge. Increase the number of iterations.\n",
            "  \"of iterations.\", ConvergenceWarning)\n",
            "/usr/local/lib/python3.6/dist-packages/sklearn/linear_model/logistic.py:947: ConvergenceWarning: lbfgs failed to converge. Increase the number of iterations.\n",
            "  \"of iterations.\", ConvergenceWarning)\n",
            "/usr/local/lib/python3.6/dist-packages/sklearn/linear_model/logistic.py:947: ConvergenceWarning: lbfgs failed to converge. Increase the number of iterations.\n",
            "  \"of iterations.\", ConvergenceWarning)\n",
            "/usr/local/lib/python3.6/dist-packages/sklearn/linear_model/logistic.py:947: ConvergenceWarning: lbfgs failed to converge. Increase the number of iterations.\n",
            "  \"of iterations.\", ConvergenceWarning)\n",
            "/usr/local/lib/python3.6/dist-packages/sklearn/linear_model/logistic.py:947: ConvergenceWarning: lbfgs failed to converge. Increase the number of iterations.\n",
            "  \"of iterations.\", ConvergenceWarning)\n",
            "/usr/local/lib/python3.6/dist-packages/sklearn/linear_model/logistic.py:947: ConvergenceWarning: lbfgs failed to converge. Increase the number of iterations.\n",
            "  \"of iterations.\", ConvergenceWarning)\n",
            "/usr/local/lib/python3.6/dist-packages/sklearn/linear_model/logistic.py:947: ConvergenceWarning: lbfgs failed to converge. Increase the number of iterations.\n",
            "  \"of iterations.\", ConvergenceWarning)\n",
            "/usr/local/lib/python3.6/dist-packages/sklearn/linear_model/logistic.py:947: ConvergenceWarning: lbfgs failed to converge. Increase the number of iterations.\n",
            "  \"of iterations.\", ConvergenceWarning)\n",
            "/usr/local/lib/python3.6/dist-packages/sklearn/linear_model/logistic.py:947: ConvergenceWarning: lbfgs failed to converge. Increase the number of iterations.\n",
            "  \"of iterations.\", ConvergenceWarning)\n",
            "/usr/local/lib/python3.6/dist-packages/sklearn/linear_model/logistic.py:947: ConvergenceWarning: lbfgs failed to converge. Increase the number of iterations.\n",
            "  \"of iterations.\", ConvergenceWarning)\n",
            "/usr/local/lib/python3.6/dist-packages/sklearn/linear_model/logistic.py:947: ConvergenceWarning: lbfgs failed to converge. Increase the number of iterations.\n",
            "  \"of iterations.\", ConvergenceWarning)\n",
            "/usr/local/lib/python3.6/dist-packages/sklearn/linear_model/logistic.py:947: ConvergenceWarning: lbfgs failed to converge. Increase the number of iterations.\n",
            "  \"of iterations.\", ConvergenceWarning)\n",
            "/usr/local/lib/python3.6/dist-packages/sklearn/linear_model/logistic.py:947: ConvergenceWarning: lbfgs failed to converge. Increase the number of iterations.\n",
            "  \"of iterations.\", ConvergenceWarning)\n",
            "/usr/local/lib/python3.6/dist-packages/sklearn/linear_model/logistic.py:947: ConvergenceWarning: lbfgs failed to converge. Increase the number of iterations.\n",
            "  \"of iterations.\", ConvergenceWarning)\n"
          ],
          "name": "stderr"
        },
        {
          "output_type": "execute_result",
          "data": {
            "text/plain": [
              "LogisticRegressionCV(Cs=10, class_weight=None, cv=3, dual=False,\n",
              "                     fit_intercept=True, intercept_scaling=1.0, l1_ratios=None,\n",
              "                     max_iter=100, multi_class='ovr', n_jobs=None, penalty='l2',\n",
              "                     random_state=None, refit=True, scoring=None,\n",
              "                     solver='lbfgs', tol=0.0001, verbose=0)"
            ]
          },
          "metadata": {
            "tags": []
          },
          "execution_count": 9
        }
      ]
    },
    {
      "cell_type": "markdown",
      "metadata": {
        "id": "65Cc9huSdr0S",
        "colab_type": "text"
      },
      "source": [
        "# Assess the classifier using accuracy\n",
        "\n",
        "Now we can measure the fraction of of the test set the trained classifer classifies correctly (i.e., accuracy)."
      ]
    },
    {
      "cell_type": "code",
      "metadata": {
        "id": "SAWM2rSgdr0X",
        "colab_type": "code",
        "outputId": "0f9fa871-5915-4a0f-fffd-266e2e7ddea5",
        "colab": {
          "base_uri": "https://localhost:8080/",
          "height": 35
        }
      },
      "source": [
        "print(\"Accuracy = {:.2f}\".format(lr.score(test_X, test_y)))"
      ],
      "execution_count": 0,
      "outputs": [
        {
          "output_type": "stream",
          "text": [
            "Accuracy = 0.98\n"
          ],
          "name": "stdout"
        }
      ]
    },
    {
      "cell_type": "markdown",
      "metadata": {
        "id": "pOoESyKKdr0l",
        "colab_type": "text"
      },
      "source": [
        "# Now do something very similar with Keras"
      ]
    },
    {
      "cell_type": "code",
      "metadata": {
        "id": "5aZWn080dr0n",
        "colab_type": "code",
        "colab": {}
      },
      "source": [
        "def one_hot_encode_object_array(arr):\n",
        "    '''One hot encode a numpy array of objects (e.g. strings)'''\n",
        "    uniques, ids = np.unique(arr, return_inverse=True)\n",
        "    return np_utils.to_categorical(ids, len(uniques))\n",
        "\n",
        "train_y_ohe = one_hot_encode_object_array(train_y)\n",
        "test_y_ohe = one_hot_encode_object_array(test_y)"
      ],
      "execution_count": 0,
      "outputs": []
    },
    {
      "cell_type": "code",
      "metadata": {
        "id": "PIN0s_gmdr0w",
        "colab_type": "code",
        "outputId": "b8468442-1d22-4f2f-bbf3-0bf276a3a9ac",
        "colab": {
          "base_uri": "https://localhost:8080/",
          "height": 156
        }
      },
      "source": [
        "print(train_y)\n",
        "print(train_y_ohe)"
      ],
      "execution_count": 0,
      "outputs": [
        {
          "output_type": "stream",
          "text": [
            "[0. 1. 0. ... 0. 0. 0.]\n",
            "[[1. 0.]\n",
            " [0. 1.]\n",
            " [1. 0.]\n",
            " ...\n",
            " [1. 0.]\n",
            " [1. 0.]\n",
            " [1. 0.]]\n"
          ],
          "name": "stdout"
        }
      ]
    },
    {
      "cell_type": "markdown",
      "metadata": {
        "id": "4cage2HUdr06",
        "colab_type": "text"
      },
      "source": [
        "# Build the neural network model\n",
        "\n",
        "Aside from the data munging required in this particular case, the most signifcant and important difference with working with Keras is that you have to specify the structure of the model before you can instantiate and use it.\n",
        "\n",
        "In scikit-learn, the models are off-the-shelf. But Keras is a neural network library. As such, while the number of features/classes in your data provide constraints, you can determine all the other aspects of model structure: number of layers, size of layers, the nature of the connections between the layers, etc. (And if that didn't make sense, Keras is a great way to experiment with it!)\n",
        "\n",
        "The upshot of this freedom is that instaniating a minimal classifier involves a bit more work than the one line required by scikit-learn.\n",
        "\n",
        "In our case, we'll build an extremely simple network. Two of the choices are made for us by the data. We have four features and three classes, so the input layer must have four units, and the output layer must have three units. We only have to define the hidden layers. We're only going to have one hidden layer for this project, and we'll give it 16 units. From the point of view of a GPU, 16 is a round number! You'll see a lot of powers of 2 when you work with neural networks.\n",
        "\n",
        "We're going to define our model in the most common way: as a sequential stack of layers. The alternative is as a computational graph, but we're going to stick to `Sequential()` here."
      ]
    },
    {
      "cell_type": "code",
      "metadata": {
        "id": "6BXaldoZdr09",
        "colab_type": "code",
        "outputId": "251763c7-05a1-4482-e207-67e25ca12ced",
        "colab": {
          "base_uri": "https://localhost:8080/",
          "height": 89
        }
      },
      "source": [
        "model = Sequential()"
      ],
      "execution_count": 0,
      "outputs": [
        {
          "output_type": "stream",
          "text": [
            "WARNING: Logging before flag parsing goes to stderr.\n",
            "W0625 02:32:15.971379 140608748713856 deprecation_wrapper.py:119] From /usr/local/lib/python3.6/dist-packages/keras/backend/tensorflow_backend.py:74: The name tf.get_default_graph is deprecated. Please use tf.compat.v1.get_default_graph instead.\n",
            "\n"
          ],
          "name": "stderr"
        }
      ]
    },
    {
      "cell_type": "markdown",
      "metadata": {
        "id": "Zfe0Gh7odr1H",
        "colab_type": "text"
      },
      "source": [
        "The next two lines define the size input layer (input_shape=(4,), and the size and activation function of the hidden layer"
      ]
    },
    {
      "cell_type": "code",
      "metadata": {
        "id": "ECgTNN0kdr1L",
        "colab_type": "code",
        "outputId": "ec66c0db-df67-41d6-93b1-634d6d0fc4f2",
        "colab": {
          "base_uri": "https://localhost:8080/",
          "height": 107
        }
      },
      "source": [
        "model.add(Dense(16, input_shape=(8,)))\n",
        "model.add(Activation('sigmoid'))"
      ],
      "execution_count": 0,
      "outputs": [
        {
          "output_type": "stream",
          "text": [
            "W0625 02:32:19.561023 140608748713856 deprecation_wrapper.py:119] From /usr/local/lib/python3.6/dist-packages/keras/backend/tensorflow_backend.py:517: The name tf.placeholder is deprecated. Please use tf.compat.v1.placeholder instead.\n",
            "\n",
            "W0625 02:32:19.577367 140608748713856 deprecation_wrapper.py:119] From /usr/local/lib/python3.6/dist-packages/keras/backend/tensorflow_backend.py:4138: The name tf.random_uniform is deprecated. Please use tf.random.uniform instead.\n",
            "\n"
          ],
          "name": "stderr"
        }
      ]
    },
    {
      "cell_type": "markdown",
      "metadata": {
        "id": "McbL4VhCdr1U",
        "colab_type": "text"
      },
      "source": [
        "... and the next line defines the size and activation function of the ouput layer."
      ]
    },
    {
      "cell_type": "code",
      "metadata": {
        "id": "Zie6D7wXdr1X",
        "colab_type": "code",
        "colab": {}
      },
      "source": [
        "model.add(Dense(2))\n",
        "model.add(Activation('softmax'))"
      ],
      "execution_count": 0,
      "outputs": []
    },
    {
      "cell_type": "markdown",
      "metadata": {
        "id": "J-RDpgj-dr1k",
        "colab_type": "text"
      },
      "source": [
        "Finally we specify the optimization strategy and the loss function to optimize. We also instruct the model to calculate accuracy as it works."
      ]
    },
    {
      "cell_type": "code",
      "metadata": {
        "id": "nRlU1mEwdr1n",
        "colab_type": "code",
        "outputId": "b9f5a4e4-161e-4391-b389-91bd97e9afc0",
        "colab": {
          "base_uri": "https://localhost:8080/",
          "height": 107
        }
      },
      "source": [
        "model.compile(optimizer='adam', loss='categorical_crossentropy', metrics=[\"accuracy\"])"
      ],
      "execution_count": 0,
      "outputs": [
        {
          "output_type": "stream",
          "text": [
            "W0625 02:32:23.873756 140608748713856 deprecation_wrapper.py:119] From /usr/local/lib/python3.6/dist-packages/keras/optimizers.py:790: The name tf.train.Optimizer is deprecated. Please use tf.compat.v1.train.Optimizer instead.\n",
            "\n",
            "W0625 02:32:23.925180 140608748713856 deprecation_wrapper.py:119] From /usr/local/lib/python3.6/dist-packages/keras/backend/tensorflow_backend.py:3295: The name tf.log is deprecated. Please use tf.math.log instead.\n",
            "\n"
          ],
          "name": "stderr"
        }
      ]
    },
    {
      "cell_type": "code",
      "metadata": {
        "id": "Sli9ZaUwdr14",
        "colab_type": "code",
        "outputId": "9a3d6e64-e9e6-4b5e-8520-99a64497d3b5",
        "colab": {
          "base_uri": "https://localhost:8080/",
          "height": 295
        }
      },
      "source": [
        "print(model.summary())"
      ],
      "execution_count": 0,
      "outputs": [
        {
          "output_type": "stream",
          "text": [
            "_________________________________________________________________\n",
            "Layer (type)                 Output Shape              Param #   \n",
            "=================================================================\n",
            "dense_1 (Dense)              (None, 16)                144       \n",
            "_________________________________________________________________\n",
            "activation_1 (Activation)    (None, 16)                0         \n",
            "_________________________________________________________________\n",
            "dense_2 (Dense)              (None, 2)                 34        \n",
            "_________________________________________________________________\n",
            "activation_2 (Activation)    (None, 2)                 0         \n",
            "=================================================================\n",
            "Total params: 178\n",
            "Trainable params: 178\n",
            "Non-trainable params: 0\n",
            "_________________________________________________________________\n",
            "None\n"
          ],
          "name": "stdout"
        }
      ]
    },
    {
      "cell_type": "markdown",
      "metadata": {
        "id": "uEmTVmGYdr2L",
        "colab_type": "text"
      },
      "source": [
        "Can you figure out how the param# get calculated?\n"
      ]
    },
    {
      "cell_type": "code",
      "metadata": {
        "id": "nTM5jNYZdr2N",
        "colab_type": "code",
        "outputId": "cba0e875-3dd2-42bc-f790-88c890b21b30",
        "colab": {
          "base_uri": "https://localhost:8080/",
          "height": 524
        }
      },
      "source": [
        "from IPython.display import SVG\n",
        "from keras.utils.vis_utils import model_to_dot\n",
        "\n",
        "SVG(model_to_dot(model, show_shapes=True).create(prog='dot', format='svg'))"
      ],
      "execution_count": 0,
      "outputs": [
        {
          "output_type": "execute_result",
          "data": {
            "text/plain": [
              "<IPython.core.display.SVG object>"
            ],
            "image/svg+xml": "<svg height=\"377pt\" viewBox=\"0.00 0.00 300.00 377.00\" width=\"300pt\" xmlns=\"http://www.w3.org/2000/svg\" xmlns:xlink=\"http://www.w3.org/1999/xlink\">\n<g class=\"graph\" id=\"graph0\" transform=\"scale(1 1) rotate(0) translate(4 373)\">\n<title>G</title>\n<polygon fill=\"#ffffff\" points=\"-4,4 -4,-373 296,-373 296,4 -4,4\" stroke=\"transparent\"/>\n<!-- 140607589234056 -->\n<g class=\"node\" id=\"node1\">\n<title>140607589234056</title>\n<polygon fill=\"none\" points=\"23.5,-249.5 23.5,-295.5 268.5,-295.5 268.5,-249.5 23.5,-249.5\" stroke=\"#000000\"/>\n<text fill=\"#000000\" font-family=\"Times,serif\" font-size=\"14.00\" text-anchor=\"middle\" x=\"77\" y=\"-268.8\">dense_1: Dense</text>\n<polyline fill=\"none\" points=\"130.5,-249.5 130.5,-295.5 \" stroke=\"#000000\"/>\n<text fill=\"#000000\" font-family=\"Times,serif\" font-size=\"14.00\" text-anchor=\"middle\" x=\"159.5\" y=\"-280.3\">input:</text>\n<polyline fill=\"none\" points=\"130.5,-272.5 188.5,-272.5 \" stroke=\"#000000\"/>\n<text fill=\"#000000\" font-family=\"Times,serif\" font-size=\"14.00\" text-anchor=\"middle\" x=\"159.5\" y=\"-257.3\">output:</text>\n<polyline fill=\"none\" points=\"188.5,-249.5 188.5,-295.5 \" stroke=\"#000000\"/>\n<text fill=\"#000000\" font-family=\"Times,serif\" font-size=\"14.00\" text-anchor=\"middle\" x=\"228.5\" y=\"-280.3\">(None, 8)</text>\n<polyline fill=\"none\" points=\"188.5,-272.5 268.5,-272.5 \" stroke=\"#000000\"/>\n<text fill=\"#000000\" font-family=\"Times,serif\" font-size=\"14.00\" text-anchor=\"middle\" x=\"228.5\" y=\"-257.3\">(None, 16)</text>\n</g>\n<!-- 140607631460784 -->\n<g class=\"node\" id=\"node2\">\n<title>140607631460784</title>\n<polygon fill=\"none\" points=\"0,-166.5 0,-212.5 292,-212.5 292,-166.5 0,-166.5\" stroke=\"#000000\"/>\n<text fill=\"#000000\" font-family=\"Times,serif\" font-size=\"14.00\" text-anchor=\"middle\" x=\"77\" y=\"-185.8\">activation_1: Activation</text>\n<polyline fill=\"none\" points=\"154,-166.5 154,-212.5 \" stroke=\"#000000\"/>\n<text fill=\"#000000\" font-family=\"Times,serif\" font-size=\"14.00\" text-anchor=\"middle\" x=\"183\" y=\"-197.3\">input:</text>\n<polyline fill=\"none\" points=\"154,-189.5 212,-189.5 \" stroke=\"#000000\"/>\n<text fill=\"#000000\" font-family=\"Times,serif\" font-size=\"14.00\" text-anchor=\"middle\" x=\"183\" y=\"-174.3\">output:</text>\n<polyline fill=\"none\" points=\"212,-166.5 212,-212.5 \" stroke=\"#000000\"/>\n<text fill=\"#000000\" font-family=\"Times,serif\" font-size=\"14.00\" text-anchor=\"middle\" x=\"252\" y=\"-197.3\">(None, 16)</text>\n<polyline fill=\"none\" points=\"212,-189.5 292,-189.5 \" stroke=\"#000000\"/>\n<text fill=\"#000000\" font-family=\"Times,serif\" font-size=\"14.00\" text-anchor=\"middle\" x=\"252\" y=\"-174.3\">(None, 16)</text>\n</g>\n<!-- 140607589234056&#45;&gt;140607631460784 -->\n<g class=\"edge\" id=\"edge2\">\n<title>140607589234056-&gt;140607631460784</title>\n<path d=\"M146,-249.3799C146,-241.1745 146,-231.7679 146,-222.8786\" fill=\"none\" stroke=\"#000000\"/>\n<polygon fill=\"#000000\" points=\"149.5001,-222.784 146,-212.784 142.5001,-222.784 149.5001,-222.784\" stroke=\"#000000\"/>\n</g>\n<!-- 140607589233720 -->\n<g class=\"node\" id=\"node3\">\n<title>140607589233720</title>\n<polygon fill=\"none\" points=\"23.5,-83.5 23.5,-129.5 268.5,-129.5 268.5,-83.5 23.5,-83.5\" stroke=\"#000000\"/>\n<text fill=\"#000000\" font-family=\"Times,serif\" font-size=\"14.00\" text-anchor=\"middle\" x=\"77\" y=\"-102.8\">dense_2: Dense</text>\n<polyline fill=\"none\" points=\"130.5,-83.5 130.5,-129.5 \" stroke=\"#000000\"/>\n<text fill=\"#000000\" font-family=\"Times,serif\" font-size=\"14.00\" text-anchor=\"middle\" x=\"159.5\" y=\"-114.3\">input:</text>\n<polyline fill=\"none\" points=\"130.5,-106.5 188.5,-106.5 \" stroke=\"#000000\"/>\n<text fill=\"#000000\" font-family=\"Times,serif\" font-size=\"14.00\" text-anchor=\"middle\" x=\"159.5\" y=\"-91.3\">output:</text>\n<polyline fill=\"none\" points=\"188.5,-83.5 188.5,-129.5 \" stroke=\"#000000\"/>\n<text fill=\"#000000\" font-family=\"Times,serif\" font-size=\"14.00\" text-anchor=\"middle\" x=\"228.5\" y=\"-114.3\">(None, 16)</text>\n<polyline fill=\"none\" points=\"188.5,-106.5 268.5,-106.5 \" stroke=\"#000000\"/>\n<text fill=\"#000000\" font-family=\"Times,serif\" font-size=\"14.00\" text-anchor=\"middle\" x=\"228.5\" y=\"-91.3\">(None, 2)</text>\n</g>\n<!-- 140607631460784&#45;&gt;140607589233720 -->\n<g class=\"edge\" id=\"edge3\">\n<title>140607631460784-&gt;140607589233720</title>\n<path d=\"M146,-166.3799C146,-158.1745 146,-148.7679 146,-139.8786\" fill=\"none\" stroke=\"#000000\"/>\n<polygon fill=\"#000000\" points=\"149.5001,-139.784 146,-129.784 142.5001,-139.784 149.5001,-139.784\" stroke=\"#000000\"/>\n</g>\n<!-- 140607589234112 -->\n<g class=\"node\" id=\"node4\">\n<title>140607589234112</title>\n<polygon fill=\"none\" points=\"4,-.5 4,-46.5 288,-46.5 288,-.5 4,-.5\" stroke=\"#000000\"/>\n<text fill=\"#000000\" font-family=\"Times,serif\" font-size=\"14.00\" text-anchor=\"middle\" x=\"81\" y=\"-19.8\">activation_2: Activation</text>\n<polyline fill=\"none\" points=\"158,-.5 158,-46.5 \" stroke=\"#000000\"/>\n<text fill=\"#000000\" font-family=\"Times,serif\" font-size=\"14.00\" text-anchor=\"middle\" x=\"187\" y=\"-31.3\">input:</text>\n<polyline fill=\"none\" points=\"158,-23.5 216,-23.5 \" stroke=\"#000000\"/>\n<text fill=\"#000000\" font-family=\"Times,serif\" font-size=\"14.00\" text-anchor=\"middle\" x=\"187\" y=\"-8.3\">output:</text>\n<polyline fill=\"none\" points=\"216,-.5 216,-46.5 \" stroke=\"#000000\"/>\n<text fill=\"#000000\" font-family=\"Times,serif\" font-size=\"14.00\" text-anchor=\"middle\" x=\"252\" y=\"-31.3\">(None, 2)</text>\n<polyline fill=\"none\" points=\"216,-23.5 288,-23.5 \" stroke=\"#000000\"/>\n<text fill=\"#000000\" font-family=\"Times,serif\" font-size=\"14.00\" text-anchor=\"middle\" x=\"252\" y=\"-8.3\">(None, 2)</text>\n</g>\n<!-- 140607589233720&#45;&gt;140607589234112 -->\n<g class=\"edge\" id=\"edge4\">\n<title>140607589233720-&gt;140607589234112</title>\n<path d=\"M146,-83.3799C146,-75.1745 146,-65.7679 146,-56.8786\" fill=\"none\" stroke=\"#000000\"/>\n<polygon fill=\"#000000\" points=\"149.5001,-56.784 146,-46.784 142.5001,-56.784 149.5001,-56.784\" stroke=\"#000000\"/>\n</g>\n<!-- 140607589234504 -->\n<g class=\"node\" id=\"node5\">\n<title>140607589234504</title>\n<polygon fill=\"none\" points=\"81.5,-332.5 81.5,-368.5 210.5,-368.5 210.5,-332.5 81.5,-332.5\" stroke=\"#000000\"/>\n<text fill=\"#000000\" font-family=\"Times,serif\" font-size=\"14.00\" text-anchor=\"middle\" x=\"146\" y=\"-346.8\">140607589234504</text>\n</g>\n<!-- 140607589234504&#45;&gt;140607589234056 -->\n<g class=\"edge\" id=\"edge1\">\n<title>140607589234504-&gt;140607589234056</title>\n<path d=\"M146,-332.4092C146,-324.4308 146,-314.795 146,-305.606\" fill=\"none\" stroke=\"#000000\"/>\n<polygon fill=\"#000000\" points=\"149.5001,-305.5333 146,-295.5333 142.5001,-305.5334 149.5001,-305.5333\" stroke=\"#000000\"/>\n</g>\n</g>\n</svg>"
          },
          "metadata": {
            "tags": []
          },
          "execution_count": 18
        }
      ]
    },
    {
      "cell_type": "markdown",
      "metadata": {
        "id": "wO6_552_dr2a",
        "colab_type": "text"
      },
      "source": [
        "# Use the neural network classifier\n",
        "\n",
        "Now we've defined the structure model and compiled it, we have an object whose API is almost identical to a classifier in scikit-learn. In particular, it has `.fit()` and `.predict()` methods. Let's `fit`.\n",
        "\n",
        "Training neural networks often involves the concept of \"minibatching\", which means showing the network a subset of the data, adjusting the weights, and then showing it another subset of the data. When the network has seen all the data once, that's called an \"epoch\". Tuning the minibatch/epoch strategy is a somewhat problem-specific issue, but in this case we'll just use a minibatch of 1. That makes it effectively good old stochastic gradient descent, i.e. the data is shown to the network one flower at a time, and the weights adjusted immediately.\n",
        "\n",
        "Feel free to rerun this cell with `verbose=0` removed. Note that if you want to experiment with the minibatch/epoch strategy you should rerun the previous cell that ran `model.compile()` to reinitialize the model weights."
      ]
    },
    {
      "cell_type": "code",
      "metadata": {
        "id": "fjlKYpZhdr2c",
        "colab_type": "code",
        "outputId": "ac437f33-3c19-48b1-eb0e-ff6d5a836d38",
        "colab": {
          "base_uri": "https://localhost:8080/",
          "height": 1000
        }
      },
      "source": [
        "model.fit(train_X, train_y_ohe, epochs=100, batch_size=1, verbose=1);"
      ],
      "execution_count": 0,
      "outputs": [
        {
          "output_type": "stream",
          "text": [
            "W0625 02:32:34.956107 140608748713856 deprecation.py:323] From /usr/local/lib/python3.6/dist-packages/tensorflow/python/ops/math_grad.py:1250: add_dispatch_support.<locals>.wrapper (from tensorflow.python.ops.array_ops) is deprecated and will be removed in a future version.\n",
            "Instructions for updating:\n",
            "Use tf.where in 2.0, which has the same broadcast rule as np.where\n",
            "W0625 02:32:35.013593 140608748713856 deprecation_wrapper.py:119] From /usr/local/lib/python3.6/dist-packages/keras/backend/tensorflow_backend.py:986: The name tf.assign_add is deprecated. Please use tf.compat.v1.assign_add instead.\n",
            "\n"
          ],
          "name": "stderr"
        },
        {
          "output_type": "stream",
          "text": [
            "Epoch 1/100\n",
            "8949/8949 [==============================] - 10s 1ms/step - loss: 0.1293 - acc: 0.9582\n",
            "Epoch 2/100\n",
            "8949/8949 [==============================] - 9s 1ms/step - loss: 0.1004 - acc: 0.9716\n",
            "Epoch 3/100\n",
            "8949/8949 [==============================] - 9s 1ms/step - loss: 0.0993 - acc: 0.9730\n",
            "Epoch 4/100\n",
            "8949/8949 [==============================] - 10s 1ms/step - loss: 0.0976 - acc: 0.9724\n",
            "Epoch 5/100\n",
            "8949/8949 [==============================] - 9s 1ms/step - loss: 0.0950 - acc: 0.9721\n",
            "Epoch 6/100\n",
            "8949/8949 [==============================] - 9s 1ms/step - loss: 0.0946 - acc: 0.9723\n",
            "Epoch 7/100\n",
            "8949/8949 [==============================] - 9s 1ms/step - loss: 0.0954 - acc: 0.9716\n",
            "Epoch 8/100\n",
            "8949/8949 [==============================] - 9s 1ms/step - loss: 0.0924 - acc: 0.9740\n",
            "Epoch 9/100\n",
            "8949/8949 [==============================] - 9s 1ms/step - loss: 0.0939 - acc: 0.9734\n",
            "Epoch 10/100\n",
            "8949/8949 [==============================] - 9s 1ms/step - loss: 0.0917 - acc: 0.9736\n",
            "Epoch 11/100\n",
            "8949/8949 [==============================] - 9s 1ms/step - loss: 0.0932 - acc: 0.9739\n",
            "Epoch 12/100\n",
            "8949/8949 [==============================] - 9s 1ms/step - loss: 0.0922 - acc: 0.9743\n",
            "Epoch 13/100\n",
            "8949/8949 [==============================] - 9s 1ms/step - loss: 0.0930 - acc: 0.9720\n",
            "Epoch 14/100\n",
            "8949/8949 [==============================] - 10s 1ms/step - loss: 0.0920 - acc: 0.9740\n",
            "Epoch 15/100\n",
            "8949/8949 [==============================] - 9s 1ms/step - loss: 0.0919 - acc: 0.9742\n",
            "Epoch 16/100\n",
            "8949/8949 [==============================] - 10s 1ms/step - loss: 0.0923 - acc: 0.9735\n",
            "Epoch 17/100\n",
            "8949/8949 [==============================] - 9s 1ms/step - loss: 0.0922 - acc: 0.9733\n",
            "Epoch 18/100\n",
            "8949/8949 [==============================] - 9s 1ms/step - loss: 0.0890 - acc: 0.9740\n",
            "Epoch 19/100\n",
            "8949/8949 [==============================] - 9s 1ms/step - loss: 0.0895 - acc: 0.9747\n",
            "Epoch 20/100\n",
            "8949/8949 [==============================] - 9s 1ms/step - loss: 0.0893 - acc: 0.9727\n",
            "Epoch 21/100\n",
            "8949/8949 [==============================] - 9s 1ms/step - loss: 0.0908 - acc: 0.9722\n",
            "Epoch 22/100\n",
            "8949/8949 [==============================] - 9s 1ms/step - loss: 0.0907 - acc: 0.9724\n",
            "Epoch 23/100\n",
            "8949/8949 [==============================] - 9s 1ms/step - loss: 0.0894 - acc: 0.9736\n",
            "Epoch 24/100\n",
            "8949/8949 [==============================] - 9s 1ms/step - loss: 0.0899 - acc: 0.9736\n",
            "Epoch 25/100\n",
            "8949/8949 [==============================] - 9s 1ms/step - loss: 0.0911 - acc: 0.9751\n",
            "Epoch 26/100\n",
            "8949/8949 [==============================] - 9s 1ms/step - loss: 0.0883 - acc: 0.9743\n",
            "Epoch 27/100\n",
            "8949/8949 [==============================] - 9s 1ms/step - loss: 0.0892 - acc: 0.9741\n",
            "Epoch 28/100\n",
            "8949/8949 [==============================] - 9s 1ms/step - loss: 0.0893 - acc: 0.9747\n",
            "Epoch 29/100\n",
            "8949/8949 [==============================] - 9s 1ms/step - loss: 0.0914 - acc: 0.9734\n",
            "Epoch 30/100\n",
            "8949/8949 [==============================] - 9s 1ms/step - loss: 0.0909 - acc: 0.9744\n",
            "Epoch 31/100\n",
            "8949/8949 [==============================] - 9s 1ms/step - loss: 0.0887 - acc: 0.9739\n",
            "Epoch 32/100\n",
            "8949/8949 [==============================] - 9s 1ms/step - loss: 0.0881 - acc: 0.9736\n",
            "Epoch 33/100\n",
            "8949/8949 [==============================] - 9s 1ms/step - loss: 0.0878 - acc: 0.9724\n",
            "Epoch 34/100\n",
            "8949/8949 [==============================] - 9s 1ms/step - loss: 0.0905 - acc: 0.9732\n",
            "Epoch 35/100\n",
            "8949/8949 [==============================] - 9s 1ms/step - loss: 0.0892 - acc: 0.9745\n",
            "Epoch 36/100\n",
            "8949/8949 [==============================] - 10s 1ms/step - loss: 0.0882 - acc: 0.9741\n",
            "Epoch 37/100\n",
            "8949/8949 [==============================] - 10s 1ms/step - loss: 0.0885 - acc: 0.9736\n",
            "Epoch 38/100\n",
            "8949/8949 [==============================] - 9s 1ms/step - loss: 0.0885 - acc: 0.9734\n",
            "Epoch 39/100\n",
            "8949/8949 [==============================] - 9s 1ms/step - loss: 0.0890 - acc: 0.9743\n",
            "Epoch 40/100\n",
            "8949/8949 [==============================] - 9s 1ms/step - loss: 0.0870 - acc: 0.9747\n",
            "Epoch 41/100\n",
            "8949/8949 [==============================] - 9s 1ms/step - loss: 0.0898 - acc: 0.9727\n",
            "Epoch 42/100\n",
            "8949/8949 [==============================] - 9s 1ms/step - loss: 0.0892 - acc: 0.9736\n",
            "Epoch 43/100\n",
            "8949/8949 [==============================] - 9s 1ms/step - loss: 0.0887 - acc: 0.9737\n",
            "Epoch 44/100\n",
            "8949/8949 [==============================] - 9s 1ms/step - loss: 0.0902 - acc: 0.9742\n",
            "Epoch 45/100\n",
            "8949/8949 [==============================] - 9s 1ms/step - loss: 0.0890 - acc: 0.9739\n",
            "Epoch 46/100\n",
            "8949/8949 [==============================] - 9s 1ms/step - loss: 0.0885 - acc: 0.9744\n",
            "Epoch 47/100\n",
            "8949/8949 [==============================] - 9s 1ms/step - loss: 0.0871 - acc: 0.9731\n",
            "Epoch 48/100\n",
            "8949/8949 [==============================] - 9s 1ms/step - loss: 0.0911 - acc: 0.9732\n",
            "Epoch 49/100\n",
            "8949/8949 [==============================] - 10s 1ms/step - loss: 0.0898 - acc: 0.9734\n",
            "Epoch 50/100\n",
            "8949/8949 [==============================] - 10s 1ms/step - loss: 0.0878 - acc: 0.9742\n",
            "Epoch 51/100\n",
            "8949/8949 [==============================] - 9s 1ms/step - loss: 0.0884 - acc: 0.9739\n",
            "Epoch 52/100\n",
            "8949/8949 [==============================] - 9s 1ms/step - loss: 0.0870 - acc: 0.9737\n",
            "Epoch 53/100\n",
            "8949/8949 [==============================] - 9s 1ms/step - loss: 0.0899 - acc: 0.9728\n",
            "Epoch 54/100\n",
            "8949/8949 [==============================] - 9s 1ms/step - loss: 0.0890 - acc: 0.9745\n",
            "Epoch 55/100\n",
            "8949/8949 [==============================] - 9s 1ms/step - loss: 0.0892 - acc: 0.9739\n",
            "Epoch 56/100\n",
            "8949/8949 [==============================] - 9s 1ms/step - loss: 0.0892 - acc: 0.9737\n",
            "Epoch 57/100\n",
            "8949/8949 [==============================] - 9s 1ms/step - loss: 0.0875 - acc: 0.9744\n",
            "Epoch 58/100\n",
            "8949/8949 [==============================] - 9s 1ms/step - loss: 0.0882 - acc: 0.9737\n",
            "Epoch 59/100\n",
            "8949/8949 [==============================] - 9s 1ms/step - loss: 0.0889 - acc: 0.9737\n",
            "Epoch 60/100\n",
            "8949/8949 [==============================] - 9s 1ms/step - loss: 0.0885 - acc: 0.9734\n",
            "Epoch 61/100\n",
            "8949/8949 [==============================] - 9s 1ms/step - loss: 0.0896 - acc: 0.9746\n",
            "Epoch 62/100\n",
            "8949/8949 [==============================] - 10s 1ms/step - loss: 0.0888 - acc: 0.9739\n",
            "Epoch 63/100\n",
            "8949/8949 [==============================] - 9s 1ms/step - loss: 0.0891 - acc: 0.9737\n",
            "Epoch 64/100\n",
            "8949/8949 [==============================] - 9s 1ms/step - loss: 0.0900 - acc: 0.9728\n",
            "Epoch 65/100\n",
            "8949/8949 [==============================] - 9s 1ms/step - loss: 0.0892 - acc: 0.9743\n",
            "Epoch 66/100\n",
            "8949/8949 [==============================] - 9s 1ms/step - loss: 0.0892 - acc: 0.9739\n",
            "Epoch 67/100\n",
            "8949/8949 [==============================] - 9s 1ms/step - loss: 0.0894 - acc: 0.9747\n",
            "Epoch 68/100\n",
            "8949/8949 [==============================] - 9s 1ms/step - loss: 0.0873 - acc: 0.9749\n",
            "Epoch 69/100\n",
            "8949/8949 [==============================] - 10s 1ms/step - loss: 0.0883 - acc: 0.9735\n",
            "Epoch 70/100\n",
            "8949/8949 [==============================] - 9s 1ms/step - loss: 0.0859 - acc: 0.9743\n",
            "Epoch 71/100\n",
            "8949/8949 [==============================] - 9s 1ms/step - loss: 0.0859 - acc: 0.9737\n",
            "Epoch 72/100\n",
            "8949/8949 [==============================] - 9s 1ms/step - loss: 0.0878 - acc: 0.9739\n",
            "Epoch 73/100\n",
            "8949/8949 [==============================] - 9s 1ms/step - loss: 0.0882 - acc: 0.9739\n",
            "Epoch 74/100\n",
            "8949/8949 [==============================] - 9s 1ms/step - loss: 0.0869 - acc: 0.9747\n",
            "Epoch 75/100\n",
            "8949/8949 [==============================] - 9s 1ms/step - loss: 0.0863 - acc: 0.9740\n",
            "Epoch 76/100\n",
            "8949/8949 [==============================] - 9s 1ms/step - loss: 0.0882 - acc: 0.9736\n",
            "Epoch 77/100\n",
            "8949/8949 [==============================] - 9s 1ms/step - loss: 0.0876 - acc: 0.9745\n",
            "Epoch 78/100\n",
            "8949/8949 [==============================] - 9s 1ms/step - loss: 0.0872 - acc: 0.9745\n",
            "Epoch 79/100\n",
            "8949/8949 [==============================] - 9s 1ms/step - loss: 0.0859 - acc: 0.9728\n",
            "Epoch 80/100\n",
            "8949/8949 [==============================] - 9s 1ms/step - loss: 0.0873 - acc: 0.9747\n",
            "Epoch 81/100\n",
            "8949/8949 [==============================] - 9s 1ms/step - loss: 0.0894 - acc: 0.9744\n",
            "Epoch 82/100\n",
            "8949/8949 [==============================] - 9s 1ms/step - loss: 0.0888 - acc: 0.9730\n",
            "Epoch 83/100\n",
            "8949/8949 [==============================] - 10s 1ms/step - loss: 0.0877 - acc: 0.9745\n",
            "Epoch 84/100\n",
            "8949/8949 [==============================] - 9s 1ms/step - loss: 0.0884 - acc: 0.9737\n",
            "Epoch 85/100\n",
            "8949/8949 [==============================] - 9s 1ms/step - loss: 0.0893 - acc: 0.9744\n",
            "Epoch 86/100\n",
            "8949/8949 [==============================] - 9s 1ms/step - loss: 0.0875 - acc: 0.9736\n",
            "Epoch 87/100\n",
            "8949/8949 [==============================] - 9s 1ms/step - loss: 0.0882 - acc: 0.9739\n",
            "Epoch 88/100\n",
            "8949/8949 [==============================] - 9s 1ms/step - loss: 0.0858 - acc: 0.9750\n",
            "Epoch 89/100\n",
            "8949/8949 [==============================] - 9s 1ms/step - loss: 0.0889 - acc: 0.9739\n",
            "Epoch 90/100\n",
            "8949/8949 [==============================] - 9s 1ms/step - loss: 0.0886 - acc: 0.9735\n",
            "Epoch 91/100\n",
            "8949/8949 [==============================] - 9s 1ms/step - loss: 0.0885 - acc: 0.9734\n",
            "Epoch 92/100\n",
            "8949/8949 [==============================] - 9s 1ms/step - loss: 0.0895 - acc: 0.9745\n",
            "Epoch 93/100\n",
            "8949/8949 [==============================] - 9s 1ms/step - loss: 0.0890 - acc: 0.9737\n",
            "Epoch 94/100\n",
            "8949/8949 [==============================] - 9s 1ms/step - loss: 0.0907 - acc: 0.9726\n",
            "Epoch 95/100\n",
            "8949/8949 [==============================] - 9s 1ms/step - loss: 0.0894 - acc: 0.9745\n",
            "Epoch 96/100\n",
            "8949/8949 [==============================] - 9s 1ms/step - loss: 0.0888 - acc: 0.9732\n",
            "Epoch 97/100\n",
            "8949/8949 [==============================] - 9s 1ms/step - loss: 0.0867 - acc: 0.9740\n",
            "Epoch 98/100\n",
            "8949/8949 [==============================] - 9s 1ms/step - loss: 0.0881 - acc: 0.9740\n",
            "Epoch 99/100\n",
            "8949/8949 [==============================] - 9s 1ms/step - loss: 0.0873 - acc: 0.9727\n",
            "Epoch 100/100\n",
            "8949/8949 [==============================] - 9s 1ms/step - loss: 0.0871 - acc: 0.9742\n"
          ],
          "name": "stdout"
        }
      ]
    },
    {
      "cell_type": "markdown",
      "metadata": {
        "id": "Z956Irwydr2o",
        "colab_type": "text"
      },
      "source": [
        "For basic use, the only syntactic API difference between a compiled keras model and a scikit-learn classifier is that Keras's equivalent of the scikit-learn `.score()` method is called `.evaluate()`. \n",
        "\n",
        "`evaluate()` returns the loss function and any other metrics we asked for when we compiled the model. In our case, we asked for `accuracy`, which we can compare to the accuracy we got from the `.score()` method of our scikit-learn `LogisticRegressionCV` classifier."
      ]
    },
    {
      "cell_type": "code",
      "metadata": {
        "id": "atwZjvT7dr2q",
        "colab_type": "code",
        "outputId": "b83c4c70-4690-4dff-9786-0f5b9a7c50c5",
        "colab": {
          "base_uri": "https://localhost:8080/",
          "height": 35
        }
      },
      "source": [
        "loss, accuracy = model.evaluate(test_X, test_y_ohe, verbose=0)\n",
        "print(\"Accuracy = {:.2f}\".format(accuracy))"
      ],
      "execution_count": 0,
      "outputs": [
        {
          "output_type": "stream",
          "text": [
            "Accuracy = 0.98\n"
          ],
          "name": "stdout"
        }
      ]
    },
    {
      "cell_type": "markdown",
      "metadata": {
        "id": "6hixUOHFdr20",
        "colab_type": "text"
      },
      "source": [
        "As you can see, the test accuracy of the neural network model is better than that of the simple logistic regression classifier.\n",
        "\n",
        "This is reassuring but not surprising. Even our very simple neural network has the flexibility to learn much more complicated classification surfaces than logisitic regression, so of course it does better than logisitic regression.\n",
        "\n",
        "And it does hint at one of the dangers of neural networks: overfitting. We've been careful here to hold out a test set and measure performance with that, but it's a small set, and 99% accuracy seems awfully high to me, so I wouldn't be surprised if there was some overfitting going on. You could work on that by adding dropout (which is built in to Keras). That's the neural network equivalent of the regularization our LogisticRegression classifier uses.\n",
        "\n",
        "But we'll stop here, because a neural network model is overkill for this problem, and worrying about accuracy is not the point of what I've shown you. The point is that using a batteries-included, high-level library like Keras means that we need to write only a little bit more code to build, train, and apply a neural network model than a traditional model.\n",
        "\n",
        "# What next?\n",
        "\n",
        "We built an extremely simple feed-forward network model. To experiment more, load the [MNIST database of handwritten digits](http://keras.io/datasets/) and see if you can beat a standard scikit-learn classifier. Unlike the Iris dataset, this is a situation where the power and relative complexity of neural networks is justified. Try it yourself first, but if you get stuck, take a look at [this notebook](https://github.com/wxs/keras-mnist-tutorial/blob/master/MNIST%20in%20Keras.ipynb).\n",
        "\n",
        "Technical and engineering tutorials for your favourite language or library are easy to find, but if you're interested in some of the more conceptual and mathematical background, take a look at:\n",
        " - Michael Nielsen's online textbook \"[Neural Networks and Deep Learning](http://neuralnetworksanddeeplearning.com/)\" (especially chapters 1, 2 and 3)\n",
        " - Weeks 4 and 5 of Andrew Ng's Coursera course \"[Machine Learning](https://www.coursera.org/learn/machine-learning)\" (you'll have to sign up for the course to access these materials)\n",
        " - \"[Deep Learning](http://www.nature.com/nature/journal/v521/n7553/abs/nature14539.html)\" by Yan Le Cun et al. in Nature (2015) (you can find a [PDF of this article on Google Scholar](https://scholar.google.com/scholar?cluster=5362332738201102290))\n",
        " - Chris Olah's [wonderful essays](http://colah.github.io/), particularly the ones on [back propagation](http://colah.github.io/posts/2015-08-Backprop/) (the algorithm with which neural networks are trained) and [recurrent neural networks](http://colah.github.io/posts/2015-08-Understanding-LSTMs/).\n",
        "\n",
        "Speaking of recurrent neural networks, Keras also has layers that allow you to build models with:\n",
        "\n",
        " - convolutional layers, which give state-of-the-art results for computer vsion problems;\n",
        " - recurrent layers, which are particularly well suited to modelling language and other sequence data.\n",
        " \n",
        "In fact, one key strength of neural networks (along with sheer predictive power) is their composability. Using a high-level library like Keras, it takes only a few seconds of work to create a very different network. Models can be built up like Lego. Have fun!"
      ]
    },
    {
      "cell_type": "markdown",
      "metadata": {
        "id": "I8bWrsJWdr29",
        "colab_type": "text"
      },
      "source": [
        "## Exercise\n",
        "\n",
        "Try to run a Neural Network Classifier on some data of your choice (perhaps your CA) and observe its performance. Is it better or worse than the traditional algorithms?\n",
        "\n"
      ]
    },
    {
      "cell_type": "markdown",
      "metadata": {
        "id": "xqelMrOVdr2-",
        "colab_type": "text"
      },
      "source": [
        "# Additional Lesson - Saving Our Model\n",
        "\n",
        "So far we are limited to our Jupyter Notebook environment. If we were to make our model useful, we need to be able to expose the learning capability to other systems through services/method call. In order to do that, we can save our model after our training. \n",
        "\n",
        "In this notebook, we have trained two models that can predict IRIS dataset using Logistic Regression and Neural Network. Let's see if we can expose those as a service."
      ]
    },
    {
      "cell_type": "markdown",
      "metadata": {
        "id": "9ixsKw1Ddr3A",
        "colab_type": "text"
      },
      "source": [
        "## Saving our Logistic Regression model to disk"
      ]
    },
    {
      "cell_type": "code",
      "metadata": {
        "id": "LTzQBQ0wdr3C",
        "colab_type": "code",
        "outputId": "f5617953-031d-4e79-c24e-385362f5df55",
        "colab": {
          "base_uri": "https://localhost:8080/",
          "height": 35
        }
      },
      "source": [
        "from joblib import dump, load\n",
        "dump(lr, 'lr_pulsarstar.joblib') "
      ],
      "execution_count": 0,
      "outputs": [
        {
          "output_type": "execute_result",
          "data": {
            "text/plain": [
              "['lr_pulsarstar.joblib']"
            ]
          },
          "metadata": {
            "tags": []
          },
          "execution_count": 27
        }
      ]
    },
    {
      "cell_type": "markdown",
      "metadata": {
        "id": "TwVxIURrdr3K",
        "colab_type": "text"
      },
      "source": [
        "## Loading our Logistic Regression model to disk"
      ]
    },
    {
      "cell_type": "code",
      "metadata": {
        "id": "H2kljywTdr3M",
        "colab_type": "code",
        "outputId": "92898139-dc9f-4d59-de11-e506faa6b15c",
        "colab": {
          "base_uri": "https://localhost:8080/",
          "height": 35
        }
      },
      "source": [
        "from joblib import dump, load\n",
        "loaded_lr = clf = load('lr_pulsarstar.joblib') \n",
        "\n",
        "print(\"Accuracy = {:.2f}\".format(loaded_lr.score(test_X, test_y)))"
      ],
      "execution_count": 0,
      "outputs": [
        {
          "output_type": "stream",
          "text": [
            "Accuracy = 0.98\n"
          ],
          "name": "stdout"
        }
      ]
    },
    {
      "cell_type": "code",
      "metadata": {
        "id": "byXMdafBdr3V",
        "colab_type": "code",
        "outputId": "6201e0bf-3327-4a3d-ba2c-638e37c3642a",
        "colab": {
          "base_uri": "https://localhost:8080/",
          "height": 35
        }
      },
      "source": [
        "pred_y = loaded_lr.predict([[140,50,0.1,-0.9,4,20,5,90]])\n",
        "print (pred_y[0])\n"
      ],
      "execution_count": 0,
      "outputs": [
        {
          "output_type": "stream",
          "text": [
            "0.0\n"
          ],
          "name": "stdout"
        }
      ]
    },
    {
      "cell_type": "markdown",
      "metadata": {
        "id": "WSzGJdVcdr3f",
        "colab_type": "text"
      },
      "source": [
        "## Saving our Keras model to disk"
      ]
    },
    {
      "cell_type": "code",
      "metadata": {
        "id": "FE0TbvXJdr3h",
        "colab_type": "code",
        "outputId": "6559d93c-b495-4b43-f3cf-b69ab31b6a23",
        "colab": {
          "base_uri": "https://localhost:8080/",
          "height": 35
        }
      },
      "source": [
        "model_json = model.to_json()\n",
        "with open(\"pulsarstar_nn.json\", \"w\") as json_file:\n",
        "    json_file.write(model_json)\n",
        "# serialize weights to HDF5\n",
        "model.save_weights(\"pulsarstar_nn.h5\")\n",
        "print(\"Saved model to disk\")"
      ],
      "execution_count": 0,
      "outputs": [
        {
          "output_type": "stream",
          "text": [
            "Saved model to disk\n"
          ],
          "name": "stdout"
        }
      ]
    },
    {
      "cell_type": "markdown",
      "metadata": {
        "id": "lHgIpRl3dr3r",
        "colab_type": "text"
      },
      "source": [
        "## Loading our Keras model from disk"
      ]
    },
    {
      "cell_type": "code",
      "metadata": {
        "id": "tWgMSFuBdr3t",
        "colab_type": "code",
        "outputId": "9b2235a9-c27c-46a7-ff72-f8a211b0988f",
        "colab": {
          "base_uri": "https://localhost:8080/",
          "height": 35
        }
      },
      "source": [
        "from keras.models import model_from_json\n",
        "\n",
        "# load json and create model\n",
        "json_file = open('pulsarstar_nn.json', 'r')\n",
        "loaded_model_json = json_file.read()\n",
        "json_file.close()\n",
        "loaded_model = model_from_json(loaded_model_json)\n",
        "# load weights into new model\n",
        "loaded_model.load_weights(\"pulsarstar_nn.h5\")\n",
        "print(\"Loaded model from disk\")\n"
      ],
      "execution_count": 0,
      "outputs": [
        {
          "output_type": "stream",
          "text": [
            "Loaded model from disk\n"
          ],
          "name": "stdout"
        }
      ]
    },
    {
      "cell_type": "code",
      "metadata": {
        "id": "n0RqmJ26dr31",
        "colab_type": "code",
        "outputId": "dce09a8e-a78a-40de-cdee-2343bf9faa60",
        "colab": {
          "base_uri": "https://localhost:8080/",
          "height": 35
        }
      },
      "source": [
        "loaded_model.compile(optimizer='adam', loss='categorical_crossentropy', metrics=[\"accuracy\"])\n",
        "loss, accuracy = loaded_model.evaluate(test_X, test_y_ohe, verbose=0)\n",
        "\n",
        "print(\"Accuracy = {:.2f}\".format(accuracy))"
      ],
      "execution_count": 0,
      "outputs": [
        {
          "output_type": "stream",
          "text": [
            "Accuracy = 0.98\n"
          ],
          "name": "stdout"
        }
      ]
    },
    {
      "cell_type": "code",
      "metadata": {
        "id": "-h-vjoiCdr3-",
        "colab_type": "code",
        "outputId": "fe8bdea0-e419-4a86-8426-4021388a8211",
        "colab": {
          "base_uri": "https://localhost:8080/",
          "height": 35
        }
      },
      "source": [
        "nn_y = loaded_model.predict(np.array([[140,50,0.1,-0.9,4,20,5,90],]))\n",
        "\n",
        "print(np.round(nn_y))"
      ],
      "execution_count": 0,
      "outputs": [
        {
          "output_type": "stream",
          "text": [
            "[[1. 0.]]\n"
          ],
          "name": "stdout"
        }
      ]
    }
  ]
}